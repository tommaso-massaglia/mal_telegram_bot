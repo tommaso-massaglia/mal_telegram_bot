{
 "cells": [
  {
   "cell_type": "code",
   "execution_count": 28,
   "metadata": {},
   "outputs": [],
   "source": [
    "import utilities, myanimelistAPI, jikan4pyAPI, json\n",
    "import requests as r\n",
    "import datetime as dt"
   ]
  },
  {
   "cell_type": "code",
   "execution_count": 29,
   "metadata": {},
   "outputs": [],
   "source": [
    "malID_to_aniListID = {}"
   ]
  },
  {
   "cell_type": "code",
   "execution_count": 30,
   "metadata": {},
   "outputs": [],
   "source": [
    "def malIDtoAniListID(anime_id):\n",
    "\t\"\"\"\n",
    "\tConverts the MAL ID to AniList ID\n",
    "\tusing GraphQL\n",
    "\t\"\"\"\n",
    "\tif anime_id in malID_to_aniListID:\n",
    "\t\treturn malID_to_aniListID[anime_id]\n",
    "\n",
    "\tquery = \"\"\"query\n",
    "\t\t($id: Int, $type: MediaType) {\n",
    "\t\t\tMedia(idMal: $id, type: $type) {\n",
    "\t\t\t\tid}\n",
    "\t\t\t}\n",
    "\t\t\"\"\"\n",
    "\tvariables = {'id': anime_id, 'type': 'ANIME'}\n",
    "\turl = 'https://graphql.anilist.co'\n",
    "\tresponse = r.post(url, json={'query': query, 'variables': variables})\n",
    "\tmalID_to_aniListID[anime_id] = int(response.json()['data']['Media']['id'])\n",
    "\treturn malID_to_aniListID[anime_id]\n",
    "\n",
    "def timeTillNextEpisode(anime_id):\n",
    "\t\"\"\"\n",
    "\tReturns the time till the next episode of the anime airs\n",
    "\t\"\"\"\n",
    "\tquery = \"\"\"query ($id: Int) {\n",
    "\t\t\t\t\tMedia(idMal: $id, type: ANIME) {\n",
    "\t\t\t\t\t\tid\n",
    "\t\t\t\t\t\tnextAiringEpisode {\n",
    "\t\t\t\t\t\ttimeUntilAiring\n",
    "\t\t\t\t\t\t}\n",
    "\t\t\t\t\t}\n",
    "\t\t\t\t}\n",
    "\t\"\"\"\n",
    "\tvariables = {'id': anime_id, 'type': 'ANIME'}\n",
    "\turl = 'https://graphql.anilist.co'\n",
    "\tdata = r.post(url, json={'query': query, 'variables': variables}).json()\n",
    "\n",
    "\ttry: # if parsing fails, then the anime is not airing\n",
    "\t\ttime_data = data['data']['Media']['nextAiringEpisode']\n",
    "\texcept:\n",
    "\t\ttime_data = None\n",
    "\n",
    "\tif time_data is not None:\n",
    "\t\tseconds = time_data['timeUntilAiring']\n",
    "\telse:\n",
    "\t\treturn {\"days\": 0,\n",
    "\t\t\t\t\"hours\": 0,\n",
    "\t\t\t\t\"minutes\": 0,\n",
    "\t\t\t\t\"seconds\": 0,\n",
    "\t\t\t\t\"total_seconds\": 0,\n",
    "\t\t\t\t\"isNull\": True}\n",
    "\n",
    "\ttime = dt.timedelta(seconds=seconds)\n",
    "\treturn {\"days\": time.days,\n",
    "\t\t\t\"hours\": time.seconds//3600,\n",
    "\t\t\t\"minutes\": (time.seconds//60) % 60,\n",
    "\t\t\t\"seconds\": time.seconds % 60,\n",
    "\t\t\t\"total_seconds\": seconds,\n",
    "\t\t\t\"isNull\": False}\n",
    " \n",
    "def isAnimeAiring(anime_id, api=\"mal\"):\n",
    "\t\"\"\"\n",
    "\tChecks if the anime is airing\n",
    "\tusing the MyAnimeList API (atleast more updated then the Jikan API due to less caching)\n",
    "\t\"\"\"\n",
    "\tif api == \"mal\":\n",
    "\t\ttry:\n",
    "\t\t\tresult = mal_api.getAnimeByID(anime_id)\n",
    "\t\t\treturn (result['status'] != \"finished_airing\")\n",
    "\t\texcept Exception as e:\n",
    "\t\t\tprint_bot(\n",
    "\t\t\t\tf\"Error: Mal API ID check failed, so switching to Jikan API.\\n'{e}'\")\n",
    "\t\t\tresult = jikan_api.getAnimeByID(anime_id)\n",
    "\t\t\treturn result[\"status\"] != \"Finished Airing\"\n",
    "\telse:\n",
    "\t\tresult = jikan_api.getAnimeByID(anime_id)\n",
    "\t\treturn result[\"status\"] != \"Finished Airing\""
   ]
  },
  {
   "cell_type": "code",
   "execution_count": 36,
   "metadata": {},
   "outputs": [],
   "source": [
    "malapi = myanimelistAPI.MyAnimeListAPI(open(\"secrets.key\").read())\n",
    "jikanAPI = jikan4pyAPI.JikanAPI()"
   ]
  },
  {
   "cell_type": "code",
   "execution_count": 37,
   "metadata": {},
   "outputs": [
    {
     "data": {
      "text/plain": [
       "{'days': 5,\n",
       " 'hours': 2,\n",
       " 'minutes': 31,\n",
       " 'seconds': 5,\n",
       " 'total_seconds': 441065,\n",
       " 'isNull': False}"
      ]
     },
     "execution_count": 37,
     "metadata": {},
     "output_type": "execute_result"
    }
   ],
   "source": [
    "timeTillNextEpisode(jikanAPI.getAnimeIDByName(\"The eminence in shadow 2\"))"
   ]
  }
 ],
 "metadata": {
  "kernelspec": {
   "display_name": ".venv",
   "language": "python",
   "name": "python3"
  },
  "language_info": {
   "codemirror_mode": {
    "name": "ipython",
    "version": 3
   },
   "file_extension": ".py",
   "mimetype": "text/x-python",
   "name": "python",
   "nbconvert_exporter": "python",
   "pygments_lexer": "ipython3",
   "version": "3.10.6"
  }
 },
 "nbformat": 4,
 "nbformat_minor": 2
}
